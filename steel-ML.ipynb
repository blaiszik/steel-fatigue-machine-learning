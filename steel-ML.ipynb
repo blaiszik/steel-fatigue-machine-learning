{
 "cells": [
  {
   "cell_type": "markdown",
   "metadata": {},
   "source": [
    "# Imports"
   ]
  },
  {
   "cell_type": "code",
   "execution_count": 8,
   "metadata": {
    "collapsed": false,
    "scrolled": true
   },
   "outputs": [],
   "source": [
    "### Standard library imports\n",
    "import pandas as pd\n",
    "import numpy as np\n",
    "import matplotlib.pyplot as plt\n",
    "import seaborn as sns\n",
    "\n",
    "### sklearn imports\n",
    "from sklearn.ensemble import GradientBoostingRegressor\n",
    "from sklearn.preprocessing import StandardScaler, RobustScaler\n",
    "from sklearn.metrics import mean_squared_error, r2_score\n",
    "from sklearn.cross_validation import KFold\n",
    "\n",
    "### Matplotlib and styling\n",
    "%matplotlib inline\n",
    "import base_style\n",
    "sns.set_context(\"poster\", font_scale=1.1)\n"
   ]
  },
  {
   "cell_type": "markdown",
   "metadata": {},
   "source": [
    "# Load Dataset"
   ]
  },
  {
   "cell_type": "code",
   "execution_count": 9,
   "metadata": {
    "collapsed": true
   },
   "outputs": [],
   "source": [
    "data_file = \"./data/40192_2013_16_MOESM1_ESM.csv\"\n",
    "df_loaded = pd.read_csv(data_file)"
   ]
  },
  {
   "cell_type": "markdown",
   "metadata": {},
   "source": [
    "# Preprocess the Dataset"
   ]
  },
  {
   "cell_type": "code",
   "execution_count": 10,
   "metadata": {
    "collapsed": false
   },
   "outputs": [
    {
     "data": {
      "text/html": [
       "<div>\n",
       "<table border=\"1\" class=\"dataframe\">\n",
       "  <thead>\n",
       "    <tr style=\"text-align: right;\">\n",
       "      <th></th>\n",
       "      <th>Sl. No.</th>\n",
       "      <th>NT</th>\n",
       "      <th>THT</th>\n",
       "      <th>THt</th>\n",
       "      <th>THQCr</th>\n",
       "      <th>CT</th>\n",
       "      <th>Ct</th>\n",
       "      <th>DT</th>\n",
       "      <th>Dt</th>\n",
       "      <th>QmT</th>\n",
       "      <th>...</th>\n",
       "      <th>P</th>\n",
       "      <th>S</th>\n",
       "      <th>Ni</th>\n",
       "      <th>Cr</th>\n",
       "      <th>Cu</th>\n",
       "      <th>Mo</th>\n",
       "      <th>RedRatio</th>\n",
       "      <th>dA</th>\n",
       "      <th>dB</th>\n",
       "      <th>dC</th>\n",
       "    </tr>\n",
       "  </thead>\n",
       "  <tbody>\n",
       "    <tr>\n",
       "      <th>0</th>\n",
       "      <td>-1.728092</td>\n",
       "      <td>0.485074</td>\n",
       "      <td>-2.529863</td>\n",
       "      <td>-2.531162</td>\n",
       "      <td>-1.360296</td>\n",
       "      <td>-0.351274</td>\n",
       "      <td>-0.319469</td>\n",
       "      <td>-0.351168</td>\n",
       "      <td>-0.308883</td>\n",
       "      <td>-0.283135</td>\n",
       "      <td>...</td>\n",
       "      <td>0.233700</td>\n",
       "      <td>1.203746</td>\n",
       "      <td>-0.595127</td>\n",
       "      <td>-1.338343</td>\n",
       "      <td>-1.176664</td>\n",
       "      <td>-0.792909</td>\n",
       "      <td>-0.171244</td>\n",
       "      <td>0.734739</td>\n",
       "      <td>2.017972</td>\n",
       "      <td>3.102949</td>\n",
       "    </tr>\n",
       "    <tr>\n",
       "      <th>1</th>\n",
       "      <td>-1.720165</td>\n",
       "      <td>0.485074</td>\n",
       "      <td>-2.529863</td>\n",
       "      <td>-2.531162</td>\n",
       "      <td>-1.360296</td>\n",
       "      <td>-0.351274</td>\n",
       "      <td>-0.319469</td>\n",
       "      <td>-0.351168</td>\n",
       "      <td>-0.308883</td>\n",
       "      <td>-0.283135</td>\n",
       "      <td>...</td>\n",
       "      <td>-1.304937</td>\n",
       "      <td>0.389195</td>\n",
       "      <td>-0.512968</td>\n",
       "      <td>-1.095210</td>\n",
       "      <td>0.248847</td>\n",
       "      <td>-0.792909</td>\n",
       "      <td>-0.544536</td>\n",
       "      <td>2.022669</td>\n",
       "      <td>-0.412047</td>\n",
       "      <td>3.102949</td>\n",
       "    </tr>\n",
       "    <tr>\n",
       "      <th>2</th>\n",
       "      <td>-1.712238</td>\n",
       "      <td>0.485074</td>\n",
       "      <td>-2.529863</td>\n",
       "      <td>-2.531162</td>\n",
       "      <td>-1.360296</td>\n",
       "      <td>-0.351274</td>\n",
       "      <td>-0.319469</td>\n",
       "      <td>-0.351168</td>\n",
       "      <td>-0.308883</td>\n",
       "      <td>-0.283135</td>\n",
       "      <td>...</td>\n",
       "      <td>-1.497267</td>\n",
       "      <td>0.063375</td>\n",
       "      <td>-0.583390</td>\n",
       "      <td>-1.314030</td>\n",
       "      <td>-1.176664</td>\n",
       "      <td>-0.792909</td>\n",
       "      <td>0.601383</td>\n",
       "      <td>0.734739</td>\n",
       "      <td>2.017972</td>\n",
       "      <td>-0.741101</td>\n",
       "    </tr>\n",
       "    <tr>\n",
       "      <th>3</th>\n",
       "      <td>-1.704311</td>\n",
       "      <td>0.485074</td>\n",
       "      <td>-2.529863</td>\n",
       "      <td>-2.531162</td>\n",
       "      <td>-1.360296</td>\n",
       "      <td>-0.351274</td>\n",
       "      <td>-0.319469</td>\n",
       "      <td>-0.351168</td>\n",
       "      <td>-0.308883</td>\n",
       "      <td>-0.283135</td>\n",
       "      <td>...</td>\n",
       "      <td>0.426030</td>\n",
       "      <td>1.529567</td>\n",
       "      <td>-0.595127</td>\n",
       "      <td>-1.338343</td>\n",
       "      <td>-1.176664</td>\n",
       "      <td>-0.792909</td>\n",
       "      <td>1.417416</td>\n",
       "      <td>0.412757</td>\n",
       "      <td>-0.412047</td>\n",
       "      <td>-0.741101</td>\n",
       "    </tr>\n",
       "    <tr>\n",
       "      <th>4</th>\n",
       "      <td>-1.696384</td>\n",
       "      <td>0.485074</td>\n",
       "      <td>-2.529863</td>\n",
       "      <td>-2.531162</td>\n",
       "      <td>-1.360296</td>\n",
       "      <td>-0.351274</td>\n",
       "      <td>-0.319469</td>\n",
       "      <td>-0.351168</td>\n",
       "      <td>-0.308883</td>\n",
       "      <td>-0.283135</td>\n",
       "      <td>...</td>\n",
       "      <td>1.964667</td>\n",
       "      <td>1.203746</td>\n",
       "      <td>-0.595127</td>\n",
       "      <td>-1.338343</td>\n",
       "      <td>-0.973020</td>\n",
       "      <td>-0.792909</td>\n",
       "      <td>-0.171244</td>\n",
       "      <td>-0.231208</td>\n",
       "      <td>2.017972</td>\n",
       "      <td>-0.741101</td>\n",
       "    </tr>\n",
       "  </tbody>\n",
       "</table>\n",
       "<p>5 rows × 26 columns</p>\n",
       "</div>"
      ],
      "text/plain": [
       "    Sl. No.        NT       THT       THt     THQCr        CT        Ct  \\\n",
       "0 -1.728092  0.485074 -2.529863 -2.531162 -1.360296 -0.351274 -0.319469   \n",
       "1 -1.720165  0.485074 -2.529863 -2.531162 -1.360296 -0.351274 -0.319469   \n",
       "2 -1.712238  0.485074 -2.529863 -2.531162 -1.360296 -0.351274 -0.319469   \n",
       "3 -1.704311  0.485074 -2.529863 -2.531162 -1.360296 -0.351274 -0.319469   \n",
       "4 -1.696384  0.485074 -2.529863 -2.531162 -1.360296 -0.351274 -0.319469   \n",
       "\n",
       "         DT        Dt       QmT    ...            P         S        Ni  \\\n",
       "0 -0.351168 -0.308883 -0.283135    ...     0.233700  1.203746 -0.595127   \n",
       "1 -0.351168 -0.308883 -0.283135    ...    -1.304937  0.389195 -0.512968   \n",
       "2 -0.351168 -0.308883 -0.283135    ...    -1.497267  0.063375 -0.583390   \n",
       "3 -0.351168 -0.308883 -0.283135    ...     0.426030  1.529567 -0.595127   \n",
       "4 -0.351168 -0.308883 -0.283135    ...     1.964667  1.203746 -0.595127   \n",
       "\n",
       "         Cr        Cu        Mo  RedRatio        dA        dB        dC  \n",
       "0 -1.338343 -1.176664 -0.792909 -0.171244  0.734739  2.017972  3.102949  \n",
       "1 -1.095210  0.248847 -0.792909 -0.544536  2.022669 -0.412047  3.102949  \n",
       "2 -1.314030 -1.176664 -0.792909  0.601383  0.734739  2.017972 -0.741101  \n",
       "3 -1.338343 -1.176664 -0.792909  1.417416  0.412757 -0.412047 -0.741101  \n",
       "4 -1.338343 -0.973020 -0.792909 -0.171244 -0.231208  2.017972 -0.741101  \n",
       "\n",
       "[5 rows x 26 columns]"
      ]
     },
     "execution_count": 10,
     "metadata": {},
     "output_type": "execute_result"
    }
   ],
   "source": [
    "### Define scaler\n",
    "#scaler = RobustScaler()\n",
    "scaler = StandardScaler()\n",
    "\n",
    "### Create a dataframe with all input values\n",
    "X = pd.DataFrame(scaler.fit_transform(df_loaded.drop(['Fatigue'], axis=1)))\n",
    "X.columns = df_loaded.drop(['Fatigue'], axis=1).columns\n",
    "### Similarly, extract the y values as a vector\n",
    "y = df_loaded['Fatigue']\n",
    "X.head()"
   ]
  },
  {
   "cell_type": "markdown",
   "metadata": {},
   "source": [
    "# Build and Validate Models"
   ]
  },
  {
   "cell_type": "code",
   "execution_count": 18,
   "metadata": {
    "collapsed": false
   },
   "outputs": [
    {
     "name": "stdout",
     "output_type": "stream",
     "text": [
      "Test 0\n",
      "Test 10\n",
      "Test 20\n",
      "Test 30\n",
      "Test 40\n",
      "***** Gradient Boosting Regression 200 - 50 tests *****\n",
      "rMSE:27.0570331583\n",
      "r^2:0.972576100728\n"
     ]
    }
   ],
   "source": [
    "\n",
    "### Initialize model tracking variables\n",
    "rmses, r2s, results, predicted, actual = ([] for i in range(0,5))\n",
    "n_estimators = 200    # Set number of estimators\n",
    "n_folds = 15          # Set number of folds\n",
    "shuffle = True        # Shuffle the data before folding?\n",
    "num_tests = 50\n",
    "learning_rate = 0.075\n",
    "\n",
    "### Set up validation using kFolds\n",
    "k_fold = KFold(len(X), n_folds, shuffle=shuffle)\n",
    "\n",
    "for i in range(0,num_tests):\n",
    "    if not i%10: print(\"Test %s\"%(i))\n",
    "    # Train and test each fold, and track results\n",
    "    for k, (train, test) in enumerate(k_fold):\n",
    "        # Initialize model\n",
    "        model_name, model = (\"Gradient Boosting Regression %s\"%(n_estimators), \n",
    "                          GradientBoostingRegressor(n_estimators=n_estimators, learning_rate=learning_rate, \n",
    "                          max_depth=4, loss='ls'))\n",
    "\n",
    "        #Fit the model on the kfold training set and predict the kfold test set\n",
    "        model.fit(X.iloc[train], y.iloc[train])\n",
    "        pred = model.fit(X.iloc[train], y.iloc[train]).predict(X.iloc[test])\n",
    "\n",
    "        #Save r^2 and root mean squared error for each fold\n",
    "        r2s.append(r2_score(y.iloc[test], pred))\n",
    "        rmses.append(np.sqrt(mean_squared_error(y.iloc[test], pred)))\n",
    "\n",
    "        #Save predictions vs actual values for later plotting\n",
    "        predicted.append(pred)\n",
    "        actual.append(y.iloc[test])\n",
    "print(\"***** %s - %s tests *****\"%(model_name, num_tests))\n",
    "print(\"rMSE:%s\"%(np.mean(rmses)))\n",
    "print(\"r^2:%s\"%(np.mean(r2s)))"
   ]
  },
  {
   "cell_type": "markdown",
   "metadata": {},
   "source": [
    "# Plot the Model Predicted vs Actual"
   ]
  },
  {
   "cell_type": "code",
   "execution_count": 19,
   "metadata": {
    "collapsed": false
   },
   "outputs": [
    {
     "data": {
      "image/png": "[encoded data removed]",
      "text/plain": [
       "<matplotlib.figure.Figure at 0x117a800b8>"
      ]
     },
     "metadata": {},
     "output_type": "display_data"
    }
   ],
   "source": [
    "fig,ax = plt.subplots(figsize=(7, 4))\n",
    "ax.scatter([item for sublist in actual for item in sublist], [item for sublist in predicted for item in sublist],\n",
    "           s=75, c='blue', alpha=0.01)\n",
    "ax.set_xlim(0,1200)\n",
    "ax.set_ylim(0,1200)\n",
    "ax.set_xlabel('Actual Fatigue Strength')\n",
    "ax.set_ylabel('Predicted Fatigue Strength')\n",
    "x = np.linspace(*ax.get_xlim())\n",
    "ax.plot(x, x, linewidth=4,  alpha=0.6)\n",
    "sns.despine()"
   ]
  }
 ],
 "metadata": {
  "kernelspec": {
   "display_name": "Python 3",
   "language": "python",
   "name": "python3"
  },
  "language_info": {
   "codemirror_mode": {
    "name": "ipython",
    "version": 3
   },
   "file_extension": ".py",
   "mimetype": "text/x-python",
   "name": "python",
   "nbconvert_exporter": "python",
   "pygments_lexer": "ipython3",
   "version": "3.5.1"
  }
 },
 "nbformat": 4,
 "nbformat_minor": 0
}
